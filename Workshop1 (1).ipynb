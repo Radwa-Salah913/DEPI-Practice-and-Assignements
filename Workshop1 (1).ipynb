{
 "cells": [
  {
   "cell_type": "markdown",
   "id": "c305b530-6051-43fa-93ca-56fb962ac281",
   "metadata": {},
   "source": [
    "### #1"
   ]
  },
  {
   "cell_type": "code",
   "execution_count": 3,
   "id": "b70040b5-f266-40e2-b88c-07ec0f46a6c8",
   "metadata": {},
   "outputs": [
    {
     "name": "stdin",
     "output_type": "stream",
     "text": [
      "enter first number 2\n",
      "enter second number 2\n"
     ]
    },
    {
     "name": "stdout",
     "output_type": "stream",
     "text": [
      " add of two numbers :4\n",
      " sub of two numbers :0\n",
      " mult of two numbers :4\n",
      " div of two numbers :1.0\n"
     ]
    }
   ],
   "source": [
    "num1=int(input('enter first number'))\n",
    "num2=int(input('enter second number'))\n",
    "\n",
    "print(f' add of two numbers :{num1+num2}')\n",
    "print(f' sub of two numbers :{num1-num2}')\n",
    "print(f' mult of two numbers :{num1*num2}')\n",
    "print(f' div of two numbers :{num1/num2}')"
   ]
  },
  {
   "cell_type": "markdown",
   "id": "1b5acc5c-b04c-4204-8b79-536392b4a9c6",
   "metadata": {},
   "source": [
    "### #2"
   ]
  },
  {
   "cell_type": "code",
   "execution_count": 7,
   "id": "2c974f25-13ea-4f6f-980a-d354d735e960",
   "metadata": {},
   "outputs": [
    {
     "name": "stdout",
     "output_type": "stream",
     "text": [
      "[10, 20, 30]\n",
      "[60, 50]\n"
     ]
    }
   ],
   "source": [
    "my_list=[10, 20, 30, 40, 50, 60]\n",
    "print(my_list[:3])\n",
    "print(my_list[:-3:-1])"
   ]
  },
  {
   "cell_type": "markdown",
   "id": "f51782cd-2c74-4af9-9e5d-c4465df4f4b3",
   "metadata": {},
   "source": [
    "### #3"
   ]
  },
  {
   "cell_type": "code",
   "execution_count": 13,
   "id": "76fa45cb-4484-4972-8738-b84773127c94",
   "metadata": {},
   "outputs": [
    {
     "name": "stdin",
     "output_type": "stream",
     "text": [
      "Enter your string Radwa\n"
     ]
    },
    {
     "name": "stdout",
     "output_type": "stream",
     "text": [
      "radwa\n",
      "RADWA\n",
      "awdaR\n"
     ]
    }
   ],
   "source": [
    "str=input('Enter your string')\n",
    "print(str.lower())\n",
    "print(str.upper())\n",
    "print(str[::-1])"
   ]
  },
  {
   "cell_type": "markdown",
   "id": "f2d61a74-87a3-43be-9ba4-f822667c020f",
   "metadata": {},
   "source": [
    "### #4"
   ]
  },
  {
   "cell_type": "code",
   "execution_count": 15,
   "id": "3ebac9b4-9d36-48b0-9d60-33806f034a08",
   "metadata": {},
   "outputs": [
    {
     "name": "stdin",
     "output_type": "stream",
     "text": [
      " 1\n"
     ]
    },
    {
     "name": "stdout",
     "output_type": "stream",
     "text": [
      "odd\n"
     ]
    }
   ],
   "source": [
    "num=int(input())\n",
    "if num%2==0:\n",
    "    print('even')\n",
    "else:\n",
    "    print('odd')"
   ]
  },
  {
   "cell_type": "markdown",
   "id": "52f0423c-26b8-4e5d-8f17-6d1f54bb12e0",
   "metadata": {},
   "source": [
    "### #5"
   ]
  },
  {
   "cell_type": "code",
   "execution_count": 19,
   "id": "9e74107b-ae91-4683-b810-e0f8b222a8e8",
   "metadata": {},
   "outputs": [
    {
     "name": "stdout",
     "output_type": "stream",
     "text": [
      "15\n",
      "30\n",
      "45\n"
     ]
    }
   ],
   "source": [
    "for i in range(1,51):\n",
    "    if i%3==0 and i%5==0:\n",
    "        print(i)"
   ]
  },
  {
   "cell_type": "markdown",
   "id": "ba980786-e1ce-4367-8933-2c49d0ee65d7",
   "metadata": {},
   "source": [
    "### #6"
   ]
  },
  {
   "cell_type": "code",
   "execution_count": 27,
   "id": "ad8b1a12-1876-4642-b368-58439ded182b",
   "metadata": {},
   "outputs": [],
   "source": [
    "def fact(n):\n",
    "    if n==1:\n",
    "        return n\n",
    "    return n*fact(n-1)        "
   ]
  },
  {
   "cell_type": "code",
   "execution_count": 29,
   "id": "fc131e9b-95f7-4dba-9acb-930aa72f8128",
   "metadata": {},
   "outputs": [
    {
     "data": {
      "text/plain": [
       "120"
      ]
     },
     "execution_count": 29,
     "metadata": {},
     "output_type": "execute_result"
    }
   ],
   "source": [
    "fact(5)"
   ]
  },
  {
   "cell_type": "markdown",
   "id": "02f746a8-7071-4bd4-9f82-06986de50f91",
   "metadata": {},
   "source": [
    "### #7"
   ]
  },
  {
   "cell_type": "code",
   "execution_count": 31,
   "id": "084987e5-96b8-48a6-bd7e-91e15b47c733",
   "metadata": {},
   "outputs": [
    {
     "data": {
      "text/plain": [
       "[4, 16, 36, 64, 100, 144, 196, 256, 324, 400]"
      ]
     },
     "execution_count": 31,
     "metadata": {},
     "output_type": "execute_result"
    }
   ],
   "source": [
    "ans=[i**2 for i in range(1,21) if i%2==0]\n",
    "ans"
   ]
  },
  {
   "cell_type": "markdown",
   "id": "14c7a2b3-3cdc-4a27-afe1-dafe8736b10c",
   "metadata": {},
   "source": [
    "### #8\n"
   ]
  },
  {
   "cell_type": "code",
   "execution_count": 56,
   "id": "f8598499-5b2a-4361-8f29-f93a7eedf5de",
   "metadata": {},
   "outputs": [
    {
     "name": "stdin",
     "output_type": "stream",
     "text": [
      "Enter your string RRRffaas\n"
     ]
    },
    {
     "name": "stdout",
     "output_type": "stream",
     "text": [
      "{'R': 3, 'f': 2, 'a': 2, 's': 1}\n"
     ]
    }
   ],
   "source": [
    "str=input(\"Enter your string\")\n",
    "dic={}\n",
    "\n",
    "for i in str:\n",
    "    if i not in dic:\n",
    "        dic[i]=1\n",
    "    else:\n",
    "        dic[i]=dic[i]+1\n",
    "\n",
    "print(dic)"
   ]
  },
  {
   "cell_type": "markdown",
   "id": "74fc8f30-14d1-46ec-a573-ce2f62e79923",
   "metadata": {},
   "source": [
    "### #9"
   ]
  },
  {
   "cell_type": "code",
   "execution_count": 69,
   "id": "62f54021-00cd-4288-a7c0-e0c687ef32ae",
   "metadata": {},
   "outputs": [
    {
     "name": "stdin",
     "output_type": "stream",
     "text": [
      " 5\n"
     ]
    },
    {
     "name": "stdout",
     "output_type": "stream",
     "text": [
      "1\n",
      "12\n",
      "123\n",
      "1234\n",
      "12345\n"
     ]
    }
   ],
   "source": [
    "n=int(input())\n",
    "for i in range(1,n+1):\n",
    "    for j in range(1,i+1):\n",
    "        print(j,end='')\n",
    "    print()    "
   ]
  },
  {
   "cell_type": "markdown",
   "id": "c7b97097-9259-4b47-b019-9fd60ac912d1",
   "metadata": {},
   "source": [
    "### #10"
   ]
  },
  {
   "cell_type": "code",
   "execution_count": 78,
   "id": "89e8b469-0f77-4bc4-a738-b756188b5ca6",
   "metadata": {},
   "outputs": [
    {
     "name": "stdin",
     "output_type": "stream",
     "text": [
      "Enter first number 2\n",
      "enter second number 2\n"
     ]
    },
    {
     "name": "stdout",
     "output_type": "stream",
     "text": [
      "1.0\n"
     ]
    }
   ],
   "source": [
    "num1=int(input('Enter first number'))\n",
    "num2=int(input('enter second number'))\n",
    "\n",
    "if num2==0:\n",
    "    print('Your division is not define')\n",
    "else:\n",
    "    print(num1/num2)"
   ]
  },
  {
   "cell_type": "code",
   "execution_count": null,
   "id": "fa2abc2e-dd31-402e-a810-998dc0b6a321",
   "metadata": {},
   "outputs": [],
   "source": []
  }
 ],
 "metadata": {
  "kernelspec": {
   "display_name": "Python 3 (ipykernel)",
   "language": "python",
   "name": "python3"
  },
  "language_info": {
   "codemirror_mode": {
    "name": "ipython",
    "version": 3
   },
   "file_extension": ".py",
   "mimetype": "text/x-python",
   "name": "python",
   "nbconvert_exporter": "python",
   "pygments_lexer": "ipython3",
   "version": "3.12.4"
  }
 },
 "nbformat": 4,
 "nbformat_minor": 5
}
