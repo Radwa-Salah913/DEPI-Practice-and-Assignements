{
 "cells": [
  {
   "cell_type": "code",
   "execution_count": 7,
   "id": "d3a50df1-413e-48db-8406-9b3c484ddf51",
   "metadata": {},
   "outputs": [],
   "source": [
    "def calculator(num1,num2,op):\n",
    "    if op=='add':\n",
    "        return num1+num2\n",
    "    elif op=='minus':\n",
    "        return num1-num2\n",
    "    elif op=='mult':\n",
    "        return num1*num2\n",
    "    elif op=='div':\n",
    "        return num1/num2\n",
    "    else:\n",
    "        return 'is not valid'   "
   ]
  },
  {
   "cell_type": "code",
   "execution_count": 13,
   "id": "7d822d54-b38a-4413-828a-642c0d3cc54d",
   "metadata": {},
   "outputs": [],
   "source": [
    "def answer():\n",
    "    num1=int(input(\"Enter first number\"))\n",
    "    num2=int(input(\"Enter second number\"))\n",
    "    op=input(\"What would you want \\\"Div or Mult or Add or Minus\\\" \")\n",
    "    op=op.lower()\n",
    "    ans=calculator(num1,num2,op)\n",
    "    print(\"the result is: \", ans)"
   ]
  },
  {
   "cell_type": "code",
   "execution_count": 21,
   "id": "44fd3188-1002-4cc9-bf6c-5d633ed734a7",
   "metadata": {},
   "outputs": [
    {
     "name": "stdin",
     "output_type": "stream",
     "text": [
      "Enter first number 78\n",
      "Enter second number 45\n",
      "What would you want \"Div or Mult or Add or Minus\"  add\n"
     ]
    },
    {
     "name": "stdout",
     "output_type": "stream",
     "text": [
      "the result is:  123\n"
     ]
    },
    {
     "name": "stdin",
     "output_type": "stream",
     "text": [
      "Would you like make another operation or not response by (yes or stop) Yes\n",
      "Enter first number 23\n",
      "Enter second number 8\n",
      "What would you want \"Div or Mult or Add or Minus\"  div\n"
     ]
    },
    {
     "name": "stdout",
     "output_type": "stream",
     "text": [
      "the result is:  2.875\n"
     ]
    },
    {
     "name": "stdin",
     "output_type": "stream",
     "text": [
      "Would you like make another operation or not response by (yes or stop) stop\n"
     ]
    }
   ],
   "source": [
    "answer()\n",
    "res=input(\"Would you like make another operation or not response by (yes or stop)\")\n",
    "res=res.lower()\n",
    "while(res=='yes'):\n",
    "    answer()\n",
    "    res=input(\"Would you like make another operation or not response by (yes or stop)\")\n",
    "    res=res.lower()\n",
    "    "
   ]
  },
  {
   "cell_type": "code",
   "execution_count": null,
   "id": "4d4f7d3e-1514-47c0-8a66-1db05cd56b20",
   "metadata": {},
   "outputs": [],
   "source": []
  },
  {
   "cell_type": "code",
   "execution_count": null,
   "id": "59d500e1-cde1-43ff-b9ae-f39cc16e4863",
   "metadata": {},
   "outputs": [],
   "source": []
  },
  {
   "cell_type": "code",
   "execution_count": null,
   "id": "2775b521-a55f-486a-a8af-cafaa6905ebd",
   "metadata": {},
   "outputs": [],
   "source": []
  },
  {
   "cell_type": "code",
   "execution_count": null,
   "id": "66a37ded-f592-4310-8bfa-182b8b09a030",
   "metadata": {},
   "outputs": [],
   "source": []
  },
  {
   "cell_type": "code",
   "execution_count": null,
   "id": "858a2686-e964-449b-b47d-b875037c6d66",
   "metadata": {},
   "outputs": [],
   "source": []
  },
  {
   "cell_type": "code",
   "execution_count": null,
   "id": "cbca02d3-d878-4e96-af37-587c492edf47",
   "metadata": {},
   "outputs": [],
   "source": []
  }
 ],
 "metadata": {
  "kernelspec": {
   "display_name": "Python 3 (ipykernel)",
   "language": "python",
   "name": "python3"
  },
  "language_info": {
   "codemirror_mode": {
    "name": "ipython",
    "version": 3
   },
   "file_extension": ".py",
   "mimetype": "text/x-python",
   "name": "python",
   "nbconvert_exporter": "python",
   "pygments_lexer": "ipython3",
   "version": "3.12.4"
  }
 },
 "nbformat": 4,
 "nbformat_minor": 5
}
